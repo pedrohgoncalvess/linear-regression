{
 "cells": [
  {
   "cell_type": "code",
   "execution_count": 21,
   "metadata": {
    "collapsed": true
   },
   "outputs": [],
   "source": [
    "import pandas as pd\n",
    "import warnings\n",
    "import numpy as np\n",
    "\n",
    "warnings.filterwarnings('ignore')\n",
    "\n",
    "mainDataFrame = pd.read_csv(r'datasets/beer_consumption.csv', sep=';')"
   ]
  },
  {
   "cell_type": "code",
   "execution_count": 5,
   "outputs": [],
   "source": [
    "#separating train and test, 30% to test\n",
    "\n",
    "from sklearn.model_selection import train_test_split\n",
    "\n",
    "y = mainDataFrame['consume']\n",
    "X = mainDataFrame[['temp_max','rain','wkn']]\n",
    "\n",
    "X_train, X_test, y_train, y_test = train_test_split(X, y, test_size=0.3, random_state=42)"
   ],
   "metadata": {
    "collapsed": false
   }
  },
  {
   "cell_type": "code",
   "execution_count": 6,
   "outputs": [
    {
     "name": "stdout",
     "output_type": "stream",
     "text": [
      "R² = 0.71\n"
     ]
    }
   ],
   "source": [
    "#training model\n",
    "\n",
    "from sklearn.linear_model import LinearRegression\n",
    "\n",
    "linearModel = LinearRegression()\n",
    "linearModel.fit(X_train, y_train)\n",
    "print(f\"R² = {linearModel.score(X_train, y_train).round(2)}\")"
   ],
   "metadata": {
    "collapsed": false
   }
  },
  {
   "cell_type": "code",
   "execution_count": 8,
   "outputs": [
    {
     "name": "stdout",
     "output_type": "stream",
     "text": [
      "R² = 0.75\n"
     ]
    }
   ],
   "source": [
    "from sklearn import metrics\n",
    "y_previsto = linearModel.predict(X_test)\n",
    "print(f\"R² = {metrics.r2_score(y_test,y_previsto).round(2)}\")"
   ],
   "metadata": {
    "collapsed": false
   }
  },
  {
   "cell_type": "code",
   "execution_count": 23,
   "outputs": [
    {
     "data": {
      "text/plain": "            parameters\nintercept  6396.174229\ntemp_max    667.524992\nrain        -53.057181\nwkn        5334.971843",
      "text/html": "<div>\n<style scoped>\n    .dataframe tbody tr th:only-of-type {\n        vertical-align: middle;\n    }\n\n    .dataframe tbody tr th {\n        vertical-align: top;\n    }\n\n    .dataframe thead th {\n        text-align: right;\n    }\n</style>\n<table border=\"1\" class=\"dataframe\">\n  <thead>\n    <tr style=\"text-align: right;\">\n      <th></th>\n      <th>parameters</th>\n    </tr>\n  </thead>\n  <tbody>\n    <tr>\n      <th>intercept</th>\n      <td>6396.174229</td>\n    </tr>\n    <tr>\n      <th>temp_max</th>\n      <td>667.524992</td>\n    </tr>\n    <tr>\n      <th>rain</th>\n      <td>-53.057181</td>\n    </tr>\n    <tr>\n      <th>wkn</th>\n      <td>5334.971843</td>\n    </tr>\n  </tbody>\n</table>\n</div>"
     },
     "execution_count": 23,
     "metadata": {},
     "output_type": "execute_result"
    }
   ],
   "source": [
    "dfIndex = ['intercept', 'temp_max', 'rain', 'wkn']\n",
    "dfVars = pd.DataFrame(data=np.append(linearModel.intercept_, linearModel.coef_), index=dfIndex, columns=['parameters'])\n",
    "dfVars\n",
    "\n",
    "#average consumption without influence of explanatory variables, in this case setting all variables to zero\n",
    "#maintaining constant x3(rain) and x4(weekend) values, adding one unit in maximum temperature generates an average variation of 667 liters. hotter more beer\n",
    "#maintaining constant x2(temp max) and x4(weekend) values, adding one unit in preciptation generates a decrease of 53 liter. more rain less beer\n",
    "#maintaining constant x2(temp max) and x3(rain) values, generate a average variation of 5534 liters. is weeknd? if yes add 5334 litter basically"
   ],
   "metadata": {
    "collapsed": false
   }
  },
  {
   "cell_type": "code",
   "execution_count": 19,
   "outputs": [
    {
     "name": "stdout",
     "output_type": "stream",
     "text": [
      "25281.9 liters.\n"
     ]
    }
   ],
   "source": [
    "#simple app to predict pontual values\n",
    "\n",
    "temp_max = float(input(\"Max temperature (0.0 - 100.0): \"))\n",
    "rain = float(input(\"Rain preciptation (0.0 - 100.0): \"))\n",
    "wkn = float(input(\"Is weeknd (0-> No | 1-> Yes): \"))\n",
    "newEntryTest = [[temp_max, rain, wkn]]\n",
    "print(f\"{linearModel.predict(newEntryTest)[0].round(2)} liters.\")"
   ],
   "metadata": {
    "collapsed": false
   }
  }
 ],
 "metadata": {
  "kernelspec": {
   "display_name": "Python 3",
   "language": "python",
   "name": "python3"
  },
  "language_info": {
   "codemirror_mode": {
    "name": "ipython",
    "version": 2
   },
   "file_extension": ".py",
   "mimetype": "text/x-python",
   "name": "python",
   "nbconvert_exporter": "python",
   "pygments_lexer": "ipython2",
   "version": "2.7.6"
  }
 },
 "nbformat": 4,
 "nbformat_minor": 0
}
